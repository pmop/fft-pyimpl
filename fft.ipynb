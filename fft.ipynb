{
 "cells": [
  {
   "cell_type": "markdown",
   "metadata": {},
   "source": [
    "Definição da FFT:\n",
    "# $$x[k] \\sum_{n=0}^{N-1} x[n]e^{\\frac{-i2\\pi{kn}}{N}}$$\n",
    "De maneira que o sinal é dado por x[n], N é o tamanho do domínio.\n",
    "Note que seguindo a definição, a implementação de um algorítimo teria de fazer N multiplicações x N somas = $O(N^2)$.\n",
    "\n",
    "Por outro lado, a $Fast~Fourier~Transform$, transformada rápida de Fourier realiza a mesma operação em $O(N~Log_2~N)$."
   ]
  },
  {
   "cell_type": "code",
   "execution_count": 4,
   "metadata": {
    "scrolled": true
   },
   "outputs": [
    {
     "data": {
      "image/png": "[encoded data removed]",
      "text/plain": [
       "<Figure size 432x288 with 1 Axes>"
      ]
     },
     "metadata": {
      "needs_background": "light"
     },
     "output_type": "display_data"
    }
   ],
   "source": [
    "%matplotlib inline\n",
    "import numpy as np\n",
    "import math as ma\n",
    "from matplotlib import pyplot as plt\n",
    "step = np.arange(1,10**2)\n",
    "o_n2 = lambda x: x**2\n",
    "o_nlogn = lambda x: x* ma.log2(x)\n",
    "on2 = np.array([o_n2(s) for s in step])\n",
    "onlogn = np.array([o_nlogn(s) for s in step])\n",
    "\n",
    "plt.xlabel('n')\n",
    "plt.plot(step, on2, label='O(n^2)')\n",
    "plt.plot(step, onlogn, label='O(nlog2(n))')\n",
    "plt.legend(loc='best')\n",
    "plt.show()"
   ]
  },
  {
   "cell_type": "markdown",
   "metadata": {},
   "source": [
    "O $FFT$ se aproveita da seguinte propriedade:\n",
    "\n",
    "### $$x[k] \\sum_{n=0}^{N-1} x[n]e^{\\frac{-i2\\pi kn}{N}} = \\sum_{r=1}^{\\frac{N}{2}-1} x[2r]e^{\\frac{-i2\\pi k2r}{N}} + e^{\\frac{-i2\\pi k}{N}}\\sum_{r=1}^{\\frac{N}{2}-1} x[2r+1]e^{\\frac{-i2\\pi k(2r+1)}{N}}$$"
   ]
  },
  {
   "cell_type": "code",
   "execution_count": 15,
   "metadata": {},
   "outputs": [],
   "source": [
    "import numpy as np\n",
    "\n",
    "def dft(x):\n",
    "    N = len(x)\n",
    "    x = np.asarray(x, dtype=float)\n",
    "    n = np.arange(N)\n",
    "    k = n.reshape((N,1))\n",
    "    M = np.exp(-2j * np.pi * k * n/N)\n",
    "    return np.dot(M,x)\n",
    "\n",
    "def fft(x):\n",
    "    N = len(x)\n",
    "    assert N%2 == 0, 'Deve ser uma potencia de 2'\n",
    "    if N == 2: return dft(x)\n",
    "    else:\n",
    "        x = np.asarray(x, dtype=float)\n",
    "        x_par = fft(x[::2])\n",
    "        x_impar = fft(x[1::2])\n",
    "        c = np.exp(-2j * np.pi * np.arange(N)/N)\n",
    "        return np.concatenate([x_par + c[:int(N/2)] * x_impar,\n",
    "                               x_par + c[int(N/2):] * x_impar])"
   ]
  },
  {
   "cell_type": "markdown",
   "metadata": {},
   "source": [
    "Comparando se a implentação da DFT está correta:"
   ]
  },
  {
   "cell_type": "code",
   "execution_count": 7,
   "metadata": {},
   "outputs": [
    {
     "data": {
      "text/plain": [
       "True"
      ]
     },
     "execution_count": 7,
     "metadata": {},
     "output_type": "execute_result"
    }
   ],
   "source": [
    "sinal = np.random.random(256)\n",
    "np.allclose(dft(sinal),np.fft.fft(sinal))"
   ]
  },
  {
   "cell_type": "markdown",
   "metadata": {},
   "source": [
    "Comparando se a implentação da FFT está correta:"
   ]
  },
  {
   "cell_type": "code",
   "execution_count": 16,
   "metadata": {},
   "outputs": [
    {
     "data": {
      "text/plain": [
       "True"
      ]
     },
     "execution_count": 16,
     "metadata": {},
     "output_type": "execute_result"
    }
   ],
   "source": [
    "np.allclose(fft(sinal),np.fft.fft(sinal))"
   ]
  },
  {
   "cell_type": "markdown",
   "metadata": {},
   "source": [
    "Eu comparei rodando a minha implementação no sinal e depois a implementação do numpy, e por fim comparei os resultados.\n",
    "Uma curiosidade é que essa implementação ainda não é tão rápida quanto a do numpy, mesmo desconsiderando o fato de que o numpy tem sua implementação em C:"
   ]
  },
  {
   "cell_type": "code",
   "execution_count": 18,
   "metadata": {},
   "outputs": [
    {
     "name": "stdout",
     "output_type": "stream",
     "text": [
      "2.37 ms ± 71 µs per loop (mean ± std. dev. of 7 runs, 100 loops each)\n"
     ]
    }
   ],
   "source": [
    "%timeit fft(sinal)"
   ]
  },
  {
   "cell_type": "code",
   "execution_count": 21,
   "metadata": {},
   "outputs": [
    {
     "name": "stdout",
     "output_type": "stream",
     "text": [
      "2.79 µs ± 85.4 ns per loop (mean ± std. dev. of 7 runs, 100000 loops each)\n"
     ]
    }
   ],
   "source": [
    "%timeit np.fft.fft(sinal)"
   ]
  },
  {
   "cell_type": "markdown",
   "metadata": {},
   "source": [
    "Mas ainda assim, a FFT aqui implementada é bem mais rápida que a DFT:"
   ]
  },
  {
   "cell_type": "code",
   "execution_count": 22,
   "metadata": {},
   "outputs": [
    {
     "name": "stdout",
     "output_type": "stream",
     "text": [
      "4.97 ms ± 213 µs per loop (mean ± std. dev. of 7 runs, 100 loops each)\n"
     ]
    }
   ],
   "source": [
    "%timeit dft(sinal)"
   ]
  },
  {
   "cell_type": "code",
   "execution_count": null,
   "metadata": {},
   "outputs": [],
   "source": []
  }
 ],
 "metadata": {
  "kernelspec": {
   "display_name": "Python 3",
   "language": "python",
   "name": "python3"
  },
  "language_info": {
   "codemirror_mode": {
    "name": "ipython",
    "version": 3
   },
   "file_extension": ".py",
   "mimetype": "text/x-python",
   "name": "python",
   "nbconvert_exporter": "python",
   "pygments_lexer": "ipython3",
   "version": "3.7.4"
  }
 },
 "nbformat": 4,
 "nbformat_minor": 2
}
