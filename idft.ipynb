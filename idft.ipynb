{
 "cells": [
  {
   "cell_type": "markdown",
   "metadata": {},
   "source": [
    "Segue da definição que a transformada discreta inversa de Fourier é descrita por $$x[n]~=~\\frac{1}{N}\\sum_{k=0}^{N-1}X[k]\\cdot e^{i2\\pi kn/N} $$ "
   ]
  },
  {
   "cell_type": "code",
   "execution_count": 4,
   "metadata": {},
   "outputs": [],
   "source": [
    "def idft(X):\n",
    "    N = len(X)\n",
    "    X = np.asarray(X, dtype=float)\n",
    "    n = np.arange(N)\n",
    "    k = n.reshape((N,1))\n",
    "    # i2 pi kn/N\n",
    "    M = np.exp(2j * np.pi * k * n/N)\n",
    "    return (1/N) * np.dot(M,X)\n"
   ]
  },
  {
   "cell_type": "markdown",
   "metadata": {},
   "source": [
    "É uma implementação direta da definição."
   ]
  },
  {
   "cell_type": "markdown",
   "metadata": {},
   "source": [
    "Comparando com a implementação do numpy para ver está correto:"
   ]
  },
  {
   "cell_type": "code",
   "execution_count": 5,
   "metadata": {},
   "outputs": [
    {
     "data": {
      "text/plain": [
       "True"
      ]
     },
     "execution_count": 5,
     "metadata": {},
     "output_type": "execute_result"
    }
   ],
   "source": [
    "import numpy as np\n",
    "\n",
    "sinal = np.random.random(256)\n",
    "ft_sinal = np.fft.fft(sinal)\n",
    "np.allclose(idft(sinal), np.fft.ifft(sinal))"
   ]
  },
  {
   "cell_type": "code",
   "execution_count": null,
   "metadata": {},
   "outputs": [],
   "source": []
  }
 ],
 "metadata": {
  "kernelspec": {
   "display_name": "Python 3",
   "language": "python",
   "name": "python3"
  },
  "language_info": {
   "codemirror_mode": {
    "name": "ipython",
    "version": 3
   },
   "file_extension": ".py",
   "mimetype": "text/x-python",
   "name": "python",
   "nbconvert_exporter": "python",
   "pygments_lexer": "ipython3",
   "version": "3.7.4"
  }
 },
 "nbformat": 4,
 "nbformat_minor": 2
}
