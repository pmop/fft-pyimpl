{
 "cells": [
  {
   "cell_type": "markdown",
   "id": "wireless-shirt",
   "metadata": {},
   "source": [
    "### Definição\n",
    "\n",
    "## $$ X[k] = \\sum_{n=0}^{n-1} x(t)e^{-i2\\pi{tk}/n} $$\n",
    "\n",
    "\n",
    "Segue a DFT:"
   ]
  },
  {
   "cell_type": "code",
   "execution_count": 1,
   "id": "integral-conducting",
   "metadata": {},
   "outputs": [],
   "source": [
    "import numpy as np\n",
    "\n",
    "# DFT arranjada para cálculo vetorial\n",
    "def dft(x):\n",
    "    # N é o tamanho do vetor\n",
    "    N = len(x)\n",
    "    # Converte o vetor para uma estrutura de array do numpy, converte os valores de x(t) para float\n",
    "    x = np.asarray(x, dtype=float)\n",
    "    # Cria uma matriz de dimensão Nx1\n",
    "    n = np.arange(N)\n",
    "    k = n.reshape((N,1))\n",
    "    \n",
    "    # Exponencial \n",
    "    M = np.exp(-2j * np.pi * k * n/N)\n",
    "    # Produto interno dos vetores\n",
    "    return np.dot(M,x)"
   ]
  },
  {
   "cell_type": "markdown",
   "id": "simple-acrylic",
   "metadata": {},
   "source": [
    "(1) Considere a sequência $x[n] = [6, 8, 5, 4, 5, 6]$. Implemente o algoritmo da transformada\n",
    "de Fourier Discreta (DFT) para analisar o espectro frequencial desse sinal e valide os\n",
    "resultados com a função fft do MATLAB.\n",
    "\n",
    "R:\n",
    "\n",
    "Implementação acima.\n"
   ]
  },
  {
   "cell_type": "code",
   "execution_count": 2,
   "id": "taken-polish",
   "metadata": {},
   "outputs": [
    {
     "data": {
      "text/plain": [
       "array([34.+0.00000000e+00j,  4.-1.73205081e+00j, -2.-1.73205081e+00j,\n",
       "       -2.-1.31074346e-14j, -2.+1.73205081e+00j,  4.+1.73205081e+00j])"
      ]
     },
     "execution_count": 2,
     "metadata": {},
     "output_type": "execute_result"
    }
   ],
   "source": [
    "sinal = [6, 8, 5, 4, 5, 6]\n",
    "\n",
    "dft(sinal)\n"
   ]
  },
  {
   "cell_type": "code",
   "execution_count": 3,
   "id": "daily-herald",
   "metadata": {},
   "outputs": [
    {
     "data": {
      "text/plain": [
       "True"
      ]
     },
     "execution_count": 3,
     "metadata": {},
     "output_type": "execute_result"
    }
   ],
   "source": [
    "# Comparando com a fft do numpy\n",
    "\n",
    "np.allclose(dft(sinal), np.fft.fft(sinal))"
   ]
  },
  {
   "cell_type": "markdown",
   "id": "headed-carnival",
   "metadata": {},
   "source": [
    "(2) Implemente também a transformada discreta inversa de Fourier (IDFT) para restaurar\n",
    "a sequência original."
   ]
  },
  {
   "cell_type": "markdown",
   "id": "intellectual-charger",
   "metadata": {},
   "source": [
    "### Definição da IDFT\n",
    "\n",
    "### $$x[n] = \\frac{1}{N}\\sum_{k=0}^{N-1}X[k]\\cdot e^{i2\\pi kn/N}$$"
   ]
  },
  {
   "cell_type": "code",
   "execution_count": 4,
   "id": "alternative-serial",
   "metadata": {},
   "outputs": [],
   "source": [
    "def idft(X):\n",
    "    # Mesmo tratamento de entrada anterior\n",
    "    N = len(X)\n",
    "    X = np.asarray(X)\n",
    "    n = np.arange(N)\n",
    "    k = n.reshape((N,1))\n",
    "    # i2 pi kn/N\n",
    "    M = np.exp(2j * np.pi * k * n/N)\n",
    "    return (1/N) * np.dot(M,X)"
   ]
  },
  {
   "cell_type": "code",
   "execution_count": 5,
   "id": "contrary-vacuum",
   "metadata": {},
   "outputs": [
    {
     "name": "stdout",
     "output_type": "stream",
     "text": [
      "[6.-8.28966525e-15j 8.-2.14643118e-15j 5.+5.92118946e-16j\n",
      " 4.+2.03540888e-15j 5.+2.59052039e-15j 6.+6.95739762e-15j]\n"
     ]
    }
   ],
   "source": [
    "# Restaurando sinal\n",
    "\n",
    "sinal_freq = dft(sinal)\n",
    "\n",
    "sinal_rest = idft(sinal_freq)\n",
    "\n",
    "print(sinal_rest)"
   ]
  },
  {
   "cell_type": "markdown",
   "id": "respective-climb",
   "metadata": {},
   "source": [
    "3. Implemente o algoritmo de raiz de 2 com decimação no tempo (Radix-2) da transformada de Rápida de Fourier (Fast Fourier Transform - FFT) para analisar o espectro\n",
    "frequencial desse sinal e valide os resultados com a função fft do MATLAB.\n"
   ]
  },
  {
   "cell_type": "markdown",
   "id": "successful-tract",
   "metadata": {},
   "source": [
    "R:\n",
    "\n",
    "Fazendo uma série de enxpansões e reduções, podemos chegar nessa igualdade:\n",
    "\n",
    "## $$X[k] - \\sum_{n=0}^{N-1} x[n]e^{\\frac{-i2\\pi kn}{N}} = $$ \n",
    "\n",
    "\n",
    "## $$\n",
    "\\sum_{r=1}^{\\frac{N}{2}-1} x[2r]e^{\\frac{-i2\\pi k2r}{N}} + e^{\\frac{-i2\\pi k}{N}}\\sum_{r=1}^{\\frac{N}{2}-1} x[2r+1]e^{\\frac{-i2\\pi k(2r+1)}{N}}\n",
    "$$\n"
   ]
  },
  {
   "cell_type": "code",
   "execution_count": 6,
   "id": "respected-creativity",
   "metadata": {},
   "outputs": [],
   "source": [
    "def radix2_dft(x):\n",
    "    N = len(x)\n",
    "    assert N%2 == 0, 'Deve ser uma potencia de 2'\n",
    "    if N == 2: return dft(x)\n",
    "    else:\n",
    "        x = np.asarray(x, dtype=float)\n",
    "        # sintaxe de partição de arrays em python: a[start:stop:step]\n",
    "        # chama a radix 2 dft recursivamente na parte par do sinal\n",
    "        x_par = radix2_dft(x[::2])\n",
    "        # chama a radix 2 dft recursivamente na parte impar do sinal\n",
    "        x_impar = radix2_dft(x[1::2])\n",
    "        c = np.exp(-2j * np.pi * np.arange(N)/N)\n",
    "        # concatena os resultados retorna\n",
    "        return np.concatenate([x_par + c[:int(N/2)] * x_impar,\n",
    "                               x_par + c[int(N/2):] * x_impar])"
   ]
  },
  {
   "cell_type": "code",
   "execution_count": 7,
   "id": "fatal-rhythm",
   "metadata": {},
   "outputs": [
    {
     "data": {
      "text/plain": [
       "True"
      ]
     },
     "execution_count": 7,
     "metadata": {},
     "output_type": "execute_result"
    }
   ],
   "source": [
    "sinal = [6, 8, 5, 4, 5, 6, 5, 6]\n",
    "\n",
    "np.allclose(radix2_dft(sinal), np.fft.fft(sinal))"
   ]
  },
  {
   "cell_type": "markdown",
   "id": "vocational-bunny",
   "metadata": {},
   "source": [
    "4. Implemente o algoritmo de raiz de 3 com decimação no tempo (Radix-3) da transformada de Rápida de Fourier (Fast Fourier Transform - FFT) para analisar o espectro\n",
    "frequencial desse sinal e valide os resultados com a função fft do MATLAB."
   ]
  },
  {
   "cell_type": "code",
   "execution_count": 8,
   "id": "changing-presence",
   "metadata": {},
   "outputs": [],
   "source": [
    "# TODO"
   ]
  }
 ],
 "metadata": {
  "kernelspec": {
   "display_name": "Python 3",
   "language": "python",
   "name": "python3"
  },
  "language_info": {
   "codemirror_mode": {
    "name": "ipython",
    "version": 3
   },
   "file_extension": ".py",
   "mimetype": "text/x-python",
   "name": "python",
   "nbconvert_exporter": "python",
   "pygments_lexer": "ipython3",
   "version": "3.8.8"
  }
 },
 "nbformat": 4,
 "nbformat_minor": 5
}
